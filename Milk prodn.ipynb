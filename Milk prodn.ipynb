{
 "cells": [
  {
   "cell_type": "code",
   "execution_count": 2,
   "metadata": {},
   "outputs": [],
   "source": [
    "import pandas as pd\n",
    "import numpy as np\n",
    "import matplotlib.pyplot as plt\n",
    "from datetime import datetime, timedelta \n",
    "from matplotlib import dates as mpl_dates\n",
    "import datetime as dt\n",
    "import seaborn as sns\n",
    "import plotly.express as px\n",
    "import plotly.graph_objects as go\n",
    "from plotly.subplots import make_subplots\n",
    "import plotly.offline as pyo\n",
    "import folium"
   ]
  },
  {
   "cell_type": "code",
   "execution_count": 3,
   "metadata": {},
   "outputs": [
    {
     "data": {
      "text/html": [
       "<div>\n",
       "<style scoped>\n",
       "    .dataframe tbody tr th:only-of-type {\n",
       "        vertical-align: middle;\n",
       "    }\n",
       "\n",
       "    .dataframe tbody tr th {\n",
       "        vertical-align: top;\n",
       "    }\n",
       "\n",
       "    .dataframe thead th {\n",
       "        text-align: right;\n",
       "    }\n",
       "</style>\n",
       "<table border=\"1\" class=\"dataframe\">\n",
       "  <thead>\n",
       "    <tr style=\"text-align: right;\">\n",
       "      <th></th>\n",
       "      <th>PROVINCE</th>\n",
       "      <th>DISTRICT</th>\n",
       "      <th>MILKING COWS NO.</th>\n",
       "      <th>MILKING BUFFALOES NO.</th>\n",
       "      <th>COW MILK</th>\n",
       "      <th>BUFF MILK</th>\n",
       "      <th>TOTAL MILK PRODUCED(Mt)</th>\n",
       "    </tr>\n",
       "  </thead>\n",
       "  <tbody>\n",
       "    <tr>\n",
       "      <th>0</th>\n",
       "      <td>1.0</td>\n",
       "      <td>TAPLEJUNG</td>\n",
       "      <td>7512</td>\n",
       "      <td>5328</td>\n",
       "      <td>6323</td>\n",
       "      <td>5290</td>\n",
       "      <td>11613</td>\n",
       "    </tr>\n",
       "    <tr>\n",
       "      <th>1</th>\n",
       "      <td>1.0</td>\n",
       "      <td>SANKHUWASABHA</td>\n",
       "      <td>12911</td>\n",
       "      <td>11896</td>\n",
       "      <td>7918</td>\n",
       "      <td>11799</td>\n",
       "      <td>19717</td>\n",
       "    </tr>\n",
       "    <tr>\n",
       "      <th>2</th>\n",
       "      <td>1.0</td>\n",
       "      <td>SOLUKHUMBU</td>\n",
       "      <td>7612</td>\n",
       "      <td>13613</td>\n",
       "      <td>3788</td>\n",
       "      <td>5841</td>\n",
       "      <td>9629</td>\n",
       "    </tr>\n",
       "    <tr>\n",
       "      <th>3</th>\n",
       "      <td>1.0</td>\n",
       "      <td>PANCHTHAR</td>\n",
       "      <td>12728</td>\n",
       "      <td>12720</td>\n",
       "      <td>9855</td>\n",
       "      <td>10918</td>\n",
       "      <td>20773</td>\n",
       "    </tr>\n",
       "    <tr>\n",
       "      <th>4</th>\n",
       "      <td>1.0</td>\n",
       "      <td>ILAM</td>\n",
       "      <td>22995</td>\n",
       "      <td>7901</td>\n",
       "      <td>22180</td>\n",
       "      <td>13575</td>\n",
       "      <td>35755</td>\n",
       "    </tr>\n",
       "    <tr>\n",
       "      <th>...</th>\n",
       "      <td>...</td>\n",
       "      <td>...</td>\n",
       "      <td>...</td>\n",
       "      <td>...</td>\n",
       "      <td>...</td>\n",
       "      <td>...</td>\n",
       "      <td>...</td>\n",
       "    </tr>\n",
       "    <tr>\n",
       "      <th>80</th>\n",
       "      <td>7.0</td>\n",
       "      <td>DADELDHURA</td>\n",
       "      <td>12439</td>\n",
       "      <td>14250</td>\n",
       "      <td>8567</td>\n",
       "      <td>7586</td>\n",
       "      <td>16153</td>\n",
       "    </tr>\n",
       "    <tr>\n",
       "      <th>81</th>\n",
       "      <td>7.0</td>\n",
       "      <td>KAILALI</td>\n",
       "      <td>30871</td>\n",
       "      <td>44871</td>\n",
       "      <td>29851</td>\n",
       "      <td>37540</td>\n",
       "      <td>67391</td>\n",
       "    </tr>\n",
       "    <tr>\n",
       "      <th>82</th>\n",
       "      <td>7.0</td>\n",
       "      <td>KANCHANPUR</td>\n",
       "      <td>22320</td>\n",
       "      <td>26510</td>\n",
       "      <td>26541</td>\n",
       "      <td>28215</td>\n",
       "      <td>54756</td>\n",
       "    </tr>\n",
       "    <tr>\n",
       "      <th>83</th>\n",
       "      <td>NaN</td>\n",
       "      <td>Subtotal Sudurpaschim</td>\n",
       "      <td>143414</td>\n",
       "      <td>149524</td>\n",
       "      <td>103790</td>\n",
       "      <td>131284</td>\n",
       "      <td>235074</td>\n",
       "    </tr>\n",
       "    <tr>\n",
       "      <th>84</th>\n",
       "      <td>NaN</td>\n",
       "      <td>Nepal</td>\n",
       "      <td>1039538</td>\n",
       "      <td>1535948</td>\n",
       "      <td>754126</td>\n",
       "      <td>1338277</td>\n",
       "      <td>2092403</td>\n",
       "    </tr>\n",
       "  </tbody>\n",
       "</table>\n",
       "<p>85 rows × 7 columns</p>\n",
       "</div>"
      ],
      "text/plain": [
       "    PROVINCE               DISTRICT  MILKING COWS NO.  MILKING BUFFALOES NO.  \\\n",
       "0        1.0              TAPLEJUNG              7512                   5328   \n",
       "1        1.0          SANKHUWASABHA             12911                  11896   \n",
       "2        1.0             SOLUKHUMBU              7612                  13613   \n",
       "3        1.0              PANCHTHAR             12728                  12720   \n",
       "4        1.0                   ILAM             22995                   7901   \n",
       "..       ...                    ...               ...                    ...   \n",
       "80       7.0             DADELDHURA             12439                  14250   \n",
       "81       7.0                KAILALI             30871                  44871   \n",
       "82       7.0             KANCHANPUR             22320                  26510   \n",
       "83       NaN  Subtotal Sudurpaschim            143414                 149524   \n",
       "84       NaN                  Nepal           1039538                1535948   \n",
       "\n",
       "    COW MILK  BUFF MILK  TOTAL MILK PRODUCED(Mt)  \n",
       "0       6323       5290                    11613  \n",
       "1       7918      11799                    19717  \n",
       "2       3788       5841                     9629  \n",
       "3       9855      10918                    20773  \n",
       "4      22180      13575                    35755  \n",
       "..       ...        ...                      ...  \n",
       "80      8567       7586                    16153  \n",
       "81     29851      37540                    67391  \n",
       "82     26541      28215                    54756  \n",
       "83    103790     131284                   235074  \n",
       "84    754126    1338277                  2092403  \n",
       "\n",
       "[85 rows x 7 columns]"
      ]
     },
     "execution_count": 3,
     "metadata": {},
     "output_type": "execute_result"
    }
   ],
   "source": [
    "d = pd.read_excel('Milk.xlsx')\n",
    "d"
   ]
  },
  {
   "cell_type": "code",
   "execution_count": 4,
   "metadata": {},
   "outputs": [
    {
     "data": {
      "text/plain": [
       "Index(['PROVINCE', 'DISTRICT', 'MILKING COWS NO.', 'MILKING BUFFALOES NO.',\n",
       "       'COW MILK', 'BUFF MILK', 'TOTAL MILK PRODUCED(Mt)'],\n",
       "      dtype='object')"
      ]
     },
     "execution_count": 4,
     "metadata": {},
     "output_type": "execute_result"
    }
   ],
   "source": [
    "d.columns = d.columns.str.replace(r'\\n','', regex=True)\n",
    "d.columns"
   ]
  },
  {
   "cell_type": "code",
   "execution_count": 5,
   "metadata": {},
   "outputs": [
    {
     "data": {
      "text/plain": [
       "DISTRICT\n",
       "ACHHAM           17382\n",
       "ARGHAKHANCHI     31514\n",
       "BAGLUNG          25637\n",
       "BAITADI          18020\n",
       "BAJHANG          13002\n",
       "                 ...  \n",
       "TANAHU           49580\n",
       "TAPLEJUNG        11613\n",
       "TEHRATHUM        22585\n",
       "UDAYAPUR         35816\n",
       "WESTERN RUKUM    11660\n",
       "Name: TOTAL MILK PRODUCED(Mt), Length: 85, dtype: int64"
      ]
     },
     "execution_count": 5,
     "metadata": {},
     "output_type": "execute_result"
    }
   ],
   "source": [
    "d1 = d.groupby('DISTRICT')['TOTAL MILK PRODUCED(Mt)'].sum()\n",
    "d1"
   ]
  },
  {
   "cell_type": "code",
   "execution_count": 6,
   "metadata": {},
   "outputs": [
    {
     "data": {
      "text/plain": [
       "DISTRICT\n",
       "ACHHAM           17382\n",
       "ARGHAKHANCHI     31514\n",
       "BAGLUNG          25637\n",
       "BAITADI          18020\n",
       "BAJHANG          13002\n",
       "                 ...  \n",
       "TANAHU           49580\n",
       "TAPLEJUNG        11613\n",
       "TEHRATHUM        22585\n",
       "UDAYAPUR         35816\n",
       "WESTERN RUKUM    11660\n",
       "Name: TOTAL MILK PRODUCED(Mt), Length: 77, dtype: int64"
      ]
     },
     "execution_count": 6,
     "metadata": {},
     "output_type": "execute_result"
    }
   ],
   "source": [
    "d2 = d1.drop(['Subtotal Province 1', 'Subtotal Province 2', 'Subtotal Province 3', 'Subtotal  Gandaki Province', 'Subtotal Province 5', 'Subtotal  Karnali ', 'Subtotal Sudurpaschim', 'Nepal'])\n",
    "d2"
   ]
  },
  {
   "cell_type": "code",
   "execution_count": 7,
   "metadata": {},
   "outputs": [
    {
     "data": {
      "text/html": [
       "<div>\n",
       "<style scoped>\n",
       "    .dataframe tbody tr th:only-of-type {\n",
       "        vertical-align: middle;\n",
       "    }\n",
       "\n",
       "    .dataframe tbody tr th {\n",
       "        vertical-align: top;\n",
       "    }\n",
       "\n",
       "    .dataframe thead th {\n",
       "        text-align: right;\n",
       "    }\n",
       "</style>\n",
       "<table border=\"1\" class=\"dataframe\">\n",
       "  <thead>\n",
       "    <tr style=\"text-align: right;\">\n",
       "      <th></th>\n",
       "      <th>DISTRICT</th>\n",
       "      <th>TOTAL MILK PRODUCED(Mt)</th>\n",
       "    </tr>\n",
       "  </thead>\n",
       "  <tbody>\n",
       "    <tr>\n",
       "      <th>0</th>\n",
       "      <td>ACHHAM</td>\n",
       "      <td>17382</td>\n",
       "    </tr>\n",
       "    <tr>\n",
       "      <th>1</th>\n",
       "      <td>ARGHAKHANCHI</td>\n",
       "      <td>31514</td>\n",
       "    </tr>\n",
       "    <tr>\n",
       "      <th>2</th>\n",
       "      <td>BAGLUNG</td>\n",
       "      <td>25637</td>\n",
       "    </tr>\n",
       "    <tr>\n",
       "      <th>3</th>\n",
       "      <td>BAITADI</td>\n",
       "      <td>18020</td>\n",
       "    </tr>\n",
       "    <tr>\n",
       "      <th>4</th>\n",
       "      <td>BAJHANG</td>\n",
       "      <td>13002</td>\n",
       "    </tr>\n",
       "    <tr>\n",
       "      <th>...</th>\n",
       "      <td>...</td>\n",
       "      <td>...</td>\n",
       "    </tr>\n",
       "    <tr>\n",
       "      <th>72</th>\n",
       "      <td>TANAHU</td>\n",
       "      <td>49580</td>\n",
       "    </tr>\n",
       "    <tr>\n",
       "      <th>73</th>\n",
       "      <td>TAPLEJUNG</td>\n",
       "      <td>11613</td>\n",
       "    </tr>\n",
       "    <tr>\n",
       "      <th>74</th>\n",
       "      <td>TEHRATHUM</td>\n",
       "      <td>22585</td>\n",
       "    </tr>\n",
       "    <tr>\n",
       "      <th>75</th>\n",
       "      <td>UDAYAPUR</td>\n",
       "      <td>35816</td>\n",
       "    </tr>\n",
       "    <tr>\n",
       "      <th>76</th>\n",
       "      <td>WESTERN RUKUM</td>\n",
       "      <td>11660</td>\n",
       "    </tr>\n",
       "  </tbody>\n",
       "</table>\n",
       "<p>77 rows × 2 columns</p>\n",
       "</div>"
      ],
      "text/plain": [
       "         DISTRICT  TOTAL MILK PRODUCED(Mt)\n",
       "0          ACHHAM                    17382\n",
       "1    ARGHAKHANCHI                    31514\n",
       "2         BAGLUNG                    25637\n",
       "3         BAITADI                    18020\n",
       "4         BAJHANG                    13002\n",
       "..            ...                      ...\n",
       "72         TANAHU                    49580\n",
       "73      TAPLEJUNG                    11613\n",
       "74      TEHRATHUM                    22585\n",
       "75       UDAYAPUR                    35816\n",
       "76  WESTERN RUKUM                    11660\n",
       "\n",
       "[77 rows x 2 columns]"
      ]
     },
     "execution_count": 7,
     "metadata": {},
     "output_type": "execute_result"
    }
   ],
   "source": [
    "d2 = d2.reset_index()\n",
    "d2"
   ]
  },
  {
   "cell_type": "code",
   "execution_count": 8,
   "metadata": {},
   "outputs": [
    {
     "data": {
      "text/html": [
       "<div>\n",
       "<style scoped>\n",
       "    .dataframe tbody tr th:only-of-type {\n",
       "        vertical-align: middle;\n",
       "    }\n",
       "\n",
       "    .dataframe tbody tr th {\n",
       "        vertical-align: top;\n",
       "    }\n",
       "\n",
       "    .dataframe thead th {\n",
       "        text-align: right;\n",
       "    }\n",
       "</style>\n",
       "<table border=\"1\" class=\"dataframe\">\n",
       "  <thead>\n",
       "    <tr style=\"text-align: right;\">\n",
       "      <th></th>\n",
       "      <th>TOTAL MILK PRODUCED(Mt)</th>\n",
       "    </tr>\n",
       "  </thead>\n",
       "  <tbody>\n",
       "    <tr>\n",
       "      <th>count</th>\n",
       "      <td>77.000000</td>\n",
       "    </tr>\n",
       "    <tr>\n",
       "      <th>mean</th>\n",
       "      <td>27174.064935</td>\n",
       "    </tr>\n",
       "    <tr>\n",
       "      <th>std</th>\n",
       "      <td>18318.505609</td>\n",
       "    </tr>\n",
       "    <tr>\n",
       "      <th>min</th>\n",
       "      <td>261.000000</td>\n",
       "    </tr>\n",
       "    <tr>\n",
       "      <th>25%</th>\n",
       "      <td>14883.000000</td>\n",
       "    </tr>\n",
       "    <tr>\n",
       "      <th>50%</th>\n",
       "      <td>21998.000000</td>\n",
       "    </tr>\n",
       "    <tr>\n",
       "      <th>75%</th>\n",
       "      <td>37440.000000</td>\n",
       "    </tr>\n",
       "    <tr>\n",
       "      <th>max</th>\n",
       "      <td>91342.000000</td>\n",
       "    </tr>\n",
       "  </tbody>\n",
       "</table>\n",
       "</div>"
      ],
      "text/plain": [
       "       TOTAL MILK PRODUCED(Mt)\n",
       "count                77.000000\n",
       "mean              27174.064935\n",
       "std               18318.505609\n",
       "min                 261.000000\n",
       "25%               14883.000000\n",
       "50%               21998.000000\n",
       "75%               37440.000000\n",
       "max               91342.000000"
      ]
     },
     "execution_count": 8,
     "metadata": {},
     "output_type": "execute_result"
    }
   ],
   "source": [
    "d2.describe()"
   ]
  },
  {
   "cell_type": "code",
   "execution_count": 9,
   "metadata": {},
   "outputs": [
    {
     "data": {
      "text/html": [
       "<div>\n",
       "<style scoped>\n",
       "    .dataframe tbody tr th:only-of-type {\n",
       "        vertical-align: middle;\n",
       "    }\n",
       "\n",
       "    .dataframe tbody tr th {\n",
       "        vertical-align: top;\n",
       "    }\n",
       "\n",
       "    .dataframe thead th {\n",
       "        text-align: right;\n",
       "    }\n",
       "</style>\n",
       "<table border=\"1\" class=\"dataframe\">\n",
       "  <thead>\n",
       "    <tr style=\"text-align: right;\">\n",
       "      <th></th>\n",
       "      <th>DISTRICT</th>\n",
       "      <th>TOTAL MILK PRODUCED(Mt)</th>\n",
       "    </tr>\n",
       "  </thead>\n",
       "  <tbody>\n",
       "    <tr>\n",
       "      <th>36</th>\n",
       "      <td>KAVREPALANCHOWK</td>\n",
       "      <td>91342</td>\n",
       "    </tr>\n",
       "  </tbody>\n",
       "</table>\n",
       "</div>"
      ],
      "text/plain": [
       "           DISTRICT  TOTAL MILK PRODUCED(Mt)\n",
       "36  KAVREPALANCHOWK                    91342"
      ]
     },
     "execution_count": 9,
     "metadata": {},
     "output_type": "execute_result"
    }
   ],
   "source": [
    "d2[d2['TOTAL MILK PRODUCED(Mt)'] == 91342]"
   ]
  },
  {
   "cell_type": "code",
   "execution_count": 10,
   "metadata": {},
   "outputs": [
    {
     "data": {
      "text/html": [
       "<div>\n",
       "<style scoped>\n",
       "    .dataframe tbody tr th:only-of-type {\n",
       "        vertical-align: middle;\n",
       "    }\n",
       "\n",
       "    .dataframe tbody tr th {\n",
       "        vertical-align: top;\n",
       "    }\n",
       "\n",
       "    .dataframe thead th {\n",
       "        text-align: right;\n",
       "    }\n",
       "</style>\n",
       "<table border=\"1\" class=\"dataframe\">\n",
       "  <thead>\n",
       "    <tr style=\"text-align: right;\">\n",
       "      <th></th>\n",
       "      <th>index</th>\n",
       "      <th>DISTRICT</th>\n",
       "      <th>TOTAL MILK PRODUCED(Mt)</th>\n",
       "    </tr>\n",
       "  </thead>\n",
       "  <tbody>\n",
       "    <tr>\n",
       "      <th>0</th>\n",
       "      <td>36</td>\n",
       "      <td>KAVREPALANCHOWK</td>\n",
       "      <td>91342</td>\n",
       "    </tr>\n",
       "    <tr>\n",
       "      <th>1</th>\n",
       "      <td>43</td>\n",
       "      <td>MORANG</td>\n",
       "      <td>76066</td>\n",
       "    </tr>\n",
       "    <tr>\n",
       "      <th>2</th>\n",
       "      <td>30</td>\n",
       "      <td>KAILALI</td>\n",
       "      <td>67391</td>\n",
       "    </tr>\n",
       "    <tr>\n",
       "      <th>3</th>\n",
       "      <td>28</td>\n",
       "      <td>JHAPA</td>\n",
       "      <td>65325</td>\n",
       "    </tr>\n",
       "    <tr>\n",
       "      <th>4</th>\n",
       "      <td>32</td>\n",
       "      <td>KANCHANPUR</td>\n",
       "      <td>54756</td>\n",
       "    </tr>\n",
       "    <tr>\n",
       "      <th>5</th>\n",
       "      <td>71</td>\n",
       "      <td>SYANGJA</td>\n",
       "      <td>53190</td>\n",
       "    </tr>\n",
       "    <tr>\n",
       "      <th>6</th>\n",
       "      <td>11</td>\n",
       "      <td>CHITWAN</td>\n",
       "      <td>52495</td>\n",
       "    </tr>\n",
       "    <tr>\n",
       "      <th>7</th>\n",
       "      <td>34</td>\n",
       "      <td>KASKI</td>\n",
       "      <td>52193</td>\n",
       "    </tr>\n",
       "    <tr>\n",
       "      <th>8</th>\n",
       "      <td>69</td>\n",
       "      <td>SUNSARI</td>\n",
       "      <td>50207</td>\n",
       "    </tr>\n",
       "    <tr>\n",
       "      <th>9</th>\n",
       "      <td>72</td>\n",
       "      <td>TANAHU</td>\n",
       "      <td>49580</td>\n",
       "    </tr>\n",
       "  </tbody>\n",
       "</table>\n",
       "</div>"
      ],
      "text/plain": [
       "   index         DISTRICT  TOTAL MILK PRODUCED(Mt)\n",
       "0     36  KAVREPALANCHOWK                    91342\n",
       "1     43           MORANG                    76066\n",
       "2     30          KAILALI                    67391\n",
       "3     28            JHAPA                    65325\n",
       "4     32       KANCHANPUR                    54756\n",
       "5     71          SYANGJA                    53190\n",
       "6     11          CHITWAN                    52495\n",
       "7     34            KASKI                    52193\n",
       "8     69          SUNSARI                    50207\n",
       "9     72           TANAHU                    49580"
      ]
     },
     "execution_count": 10,
     "metadata": {},
     "output_type": "execute_result"
    }
   ],
   "source": [
    "d0 = d2.sort_values('TOTAL MILK PRODUCED(Mt)', ascending= False).reset_index().head(10)\n",
    "d0"
   ]
  },
  {
   "cell_type": "code",
   "execution_count": 11,
   "metadata": {},
   "outputs": [
    {
     "data": {
      "text/plain": [
       "'nepal.geojson'"
      ]
     },
     "execution_count": 11,
     "metadata": {},
     "output_type": "execute_result"
    }
   ],
   "source": [
    "District_geo = 'nepal.geojson'\n",
    "District_geo"
   ]
  },
  {
   "cell_type": "code",
   "execution_count": 12,
   "metadata": {},
   "outputs": [
    {
     "data": {
      "text/html": [
       "<div>\n",
       "<style scoped>\n",
       "    .dataframe tbody tr th:only-of-type {\n",
       "        vertical-align: middle;\n",
       "    }\n",
       "\n",
       "    .dataframe tbody tr th {\n",
       "        vertical-align: top;\n",
       "    }\n",
       "\n",
       "    .dataframe thead th {\n",
       "        text-align: right;\n",
       "    }\n",
       "</style>\n",
       "<table border=\"1\" class=\"dataframe\">\n",
       "  <thead>\n",
       "    <tr style=\"text-align: right;\">\n",
       "      <th></th>\n",
       "      <th>DISTRICT</th>\n",
       "      <th>TOTAL MILK PRODUCED(Mt)</th>\n",
       "    </tr>\n",
       "  </thead>\n",
       "  <tbody>\n",
       "    <tr>\n",
       "      <th>0</th>\n",
       "      <td>ACHHAM</td>\n",
       "      <td>17382</td>\n",
       "    </tr>\n",
       "    <tr>\n",
       "      <th>1</th>\n",
       "      <td>ARGHAKHANCHI</td>\n",
       "      <td>31514</td>\n",
       "    </tr>\n",
       "    <tr>\n",
       "      <th>2</th>\n",
       "      <td>BAGLUNG</td>\n",
       "      <td>25637</td>\n",
       "    </tr>\n",
       "    <tr>\n",
       "      <th>3</th>\n",
       "      <td>BAITADI</td>\n",
       "      <td>18020</td>\n",
       "    </tr>\n",
       "    <tr>\n",
       "      <th>4</th>\n",
       "      <td>BAJHANG</td>\n",
       "      <td>13002</td>\n",
       "    </tr>\n",
       "  </tbody>\n",
       "</table>\n",
       "</div>"
      ],
      "text/plain": [
       "       DISTRICT  TOTAL MILK PRODUCED(Mt)\n",
       "0        ACHHAM                    17382\n",
       "1  ARGHAKHANCHI                    31514\n",
       "2       BAGLUNG                    25637\n",
       "3       BAITADI                    18020\n",
       "4       BAJHANG                    13002"
      ]
     },
     "execution_count": 12,
     "metadata": {},
     "output_type": "execute_result"
    }
   ],
   "source": [
    "data_to_plot = d2[['DISTRICT','TOTAL MILK PRODUCED(Mt)']]\n",
    "data_to_plot.head()"
   ]
  },
  {
   "cell_type": "code",
   "execution_count": 13,
   "metadata": {},
   "outputs": [
    {
     "ename": "AttributeError",
     "evalue": "module 'folium' has no attribute 'Choropleth'",
     "output_type": "error",
     "traceback": [
      "\u001b[1;31m---------------------------------------------------------------------------\u001b[0m",
      "\u001b[1;31mAttributeError\u001b[0m                            Traceback (most recent call last)",
      "\u001b[1;32m<ipython-input-13-140ed14ce608>\u001b[0m in \u001b[0;36m<module>\u001b[1;34m\u001b[0m\n\u001b[0;32m      1\u001b[0m \u001b[0mm\u001b[0m \u001b[1;33m=\u001b[0m \u001b[0mfolium\u001b[0m\u001b[1;33m.\u001b[0m\u001b[0mMap\u001b[0m\u001b[1;33m(\u001b[0m\u001b[0mlocation\u001b[0m\u001b[1;33m=\u001b[0m\u001b[1;33m[\u001b[0m\u001b[1;36m28.3949\u001b[0m\u001b[1;33m,\u001b[0m \u001b[1;36m84.1240\u001b[0m\u001b[1;33m]\u001b[0m\u001b[1;33m,\u001b[0m \u001b[0mtiles\u001b[0m\u001b[1;33m=\u001b[0m\u001b[1;34m'Mapbox Control Room'\u001b[0m\u001b[1;33m,\u001b[0m \u001b[0mzoom_start\u001b[0m\u001b[1;33m=\u001b[0m\u001b[1;36m7.3\u001b[0m\u001b[1;33m,\u001b[0m \u001b[0mcontrol_scale\u001b[0m \u001b[1;33m=\u001b[0m \u001b[1;32mTrue\u001b[0m\u001b[1;33m)\u001b[0m\u001b[1;33m\u001b[0m\u001b[1;33m\u001b[0m\u001b[0m\n\u001b[0;32m      2\u001b[0m \u001b[1;33m\u001b[0m\u001b[0m\n\u001b[1;32m----> 3\u001b[1;33m choropleth = folium.Choropleth(\n\u001b[0m\u001b[0;32m      4\u001b[0m     \u001b[0mgeo_data\u001b[0m\u001b[1;33m=\u001b[0m\u001b[0mDistrict_geo\u001b[0m\u001b[1;33m,\u001b[0m\u001b[1;33m\u001b[0m\u001b[1;33m\u001b[0m\u001b[0m\n\u001b[0;32m      5\u001b[0m     \u001b[0mname\u001b[0m\u001b[1;33m=\u001b[0m\u001b[1;34m'choropleth'\u001b[0m\u001b[1;33m,\u001b[0m\u001b[1;33m\u001b[0m\u001b[1;33m\u001b[0m\u001b[0m\n",
      "\u001b[1;31mAttributeError\u001b[0m: module 'folium' has no attribute 'Choropleth'"
     ]
    }
   ],
   "source": [
    "m = folium.Map(location=[28.3949, 84.1240], tiles='Mapbox Control Room', zoom_start=7.3, control_scale = True)\n",
    "\n",
    "choropleth = folium.Choropleth(\n",
    "    geo_data=District_geo,\n",
    "    name='choropleth',\n",
    "    data=data_to_plot,\n",
    "    columns=['DISTRICT', 'TOTAL MILK PRODUCED(Mt)'],\n",
    "    key_on='feature.properties.DISTRICT',\n",
    "    fill_color='YlOrRd',\n",
    "    fill_opacity=4,\n",
    "    line_opacity=4,\n",
    "    legend_name='TOTAL MILK PRODUCTION (Mt) ',\n",
    "    smooth_factor=0,\n",
    "    highlight=True,\n",
    ").add_to(m)\n",
    "\n",
    "style_function = \"font-size: 12px; font-weight: bold\"\n",
    "choropleth.geojson.add_child(\n",
    "    folium.features.GeoJsonTooltip(['DISTRICT'], style=style_function, labels=False))\n",
    "\n",
    "folium.LayerControl().add_to(m)\n",
    "\n",
    "m\n",
    "\n",
    "\n",
    "\n",
    " \n",
    "\n"
   ]
  },
  {
   "cell_type": "code",
   "execution_count": 14,
   "metadata": {},
   "outputs": [
    {
     "data": {
      "text/plain": [
       "PROVINCE\n",
       "1.0    416337\n",
       "2.0    294195\n",
       "3.0    391042\n",
       "4.0    274505\n",
       "5.0    367876\n",
       "6.0    113374\n",
       "7.0    235074\n",
       "Name: TOTAL MILK PRODUCED(Mt), dtype: int64"
      ]
     },
     "execution_count": 14,
     "metadata": {},
     "output_type": "execute_result"
    }
   ],
   "source": [
    "e1 = d.groupby('PROVINCE')['TOTAL MILK PRODUCED(Mt)'].sum()\n",
    "e1"
   ]
  },
  {
   "cell_type": "code",
   "execution_count": 15,
   "metadata": {},
   "outputs": [
    {
     "data": {
      "text/plain": [
       "PROVINCE\n",
       "1.0    416337\n",
       "2.0    294195\n",
       "3.0    391042\n",
       "4.0    274505\n",
       "5.0    367876\n",
       "6.0    113374\n",
       "7.0    235074\n",
       "Name: TOTAL MILK PRODUCED(Mt), dtype: int64"
      ]
     },
     "execution_count": 15,
     "metadata": {},
     "output_type": "execute_result"
    }
   ],
   "source": [
    "e3 = e1.rename(index={'1': '1', '2': '2', '3': '3', 'Gandaki': '4', '5': '5', 'Karnali': '6', 'Sudurpaschim': '7'})\n",
    "e3"
   ]
  },
  {
   "cell_type": "code",
   "execution_count": 16,
   "metadata": {},
   "outputs": [
    {
     "data": {
      "text/html": [
       "<div>\n",
       "<style scoped>\n",
       "    .dataframe tbody tr th:only-of-type {\n",
       "        vertical-align: middle;\n",
       "    }\n",
       "\n",
       "    .dataframe tbody tr th {\n",
       "        vertical-align: top;\n",
       "    }\n",
       "\n",
       "    .dataframe thead th {\n",
       "        text-align: right;\n",
       "    }\n",
       "</style>\n",
       "<table border=\"1\" class=\"dataframe\">\n",
       "  <thead>\n",
       "    <tr style=\"text-align: right;\">\n",
       "      <th></th>\n",
       "      <th>PROVINCE</th>\n",
       "      <th>TOTAL MILK PRODUCED(Mt)</th>\n",
       "    </tr>\n",
       "  </thead>\n",
       "  <tbody>\n",
       "    <tr>\n",
       "      <th>0</th>\n",
       "      <td>1.0</td>\n",
       "      <td>416337</td>\n",
       "    </tr>\n",
       "    <tr>\n",
       "      <th>1</th>\n",
       "      <td>2.0</td>\n",
       "      <td>294195</td>\n",
       "    </tr>\n",
       "    <tr>\n",
       "      <th>2</th>\n",
       "      <td>3.0</td>\n",
       "      <td>391042</td>\n",
       "    </tr>\n",
       "    <tr>\n",
       "      <th>3</th>\n",
       "      <td>4.0</td>\n",
       "      <td>274505</td>\n",
       "    </tr>\n",
       "    <tr>\n",
       "      <th>4</th>\n",
       "      <td>5.0</td>\n",
       "      <td>367876</td>\n",
       "    </tr>\n",
       "    <tr>\n",
       "      <th>5</th>\n",
       "      <td>6.0</td>\n",
       "      <td>113374</td>\n",
       "    </tr>\n",
       "    <tr>\n",
       "      <th>6</th>\n",
       "      <td>7.0</td>\n",
       "      <td>235074</td>\n",
       "    </tr>\n",
       "  </tbody>\n",
       "</table>\n",
       "</div>"
      ],
      "text/plain": [
       "   PROVINCE  TOTAL MILK PRODUCED(Mt)\n",
       "0       1.0                   416337\n",
       "1       2.0                   294195\n",
       "2       3.0                   391042\n",
       "3       4.0                   274505\n",
       "4       5.0                   367876\n",
       "5       6.0                   113374\n",
       "6       7.0                   235074"
      ]
     },
     "execution_count": 16,
     "metadata": {},
     "output_type": "execute_result"
    }
   ],
   "source": [
    "e2 = e3.reset_index()\n",
    "e2"
   ]
  },
  {
   "cell_type": "code",
   "execution_count": 17,
   "metadata": {},
   "outputs": [
    {
     "data": {
      "text/plain": [
       "Index(['PROVINCE', 'TOTAL MILK PRODUCED(Mt)'], dtype='object')"
      ]
     },
     "execution_count": 17,
     "metadata": {},
     "output_type": "execute_result"
    }
   ],
   "source": [
    "e2.columns = e2.columns.str.replace(r'\\n','', regex=True)\n",
    "e2.columns"
   ]
  },
  {
   "cell_type": "code",
   "execution_count": 18,
   "metadata": {},
   "outputs": [
    {
     "data": {
      "text/html": [
       "<div>\n",
       "<style scoped>\n",
       "    .dataframe tbody tr th:only-of-type {\n",
       "        vertical-align: middle;\n",
       "    }\n",
       "\n",
       "    .dataframe tbody tr th {\n",
       "        vertical-align: top;\n",
       "    }\n",
       "\n",
       "    .dataframe thead th {\n",
       "        text-align: right;\n",
       "    }\n",
       "</style>\n",
       "<table border=\"1\" class=\"dataframe\">\n",
       "  <thead>\n",
       "    <tr style=\"text-align: right;\">\n",
       "      <th></th>\n",
       "      <th>PROVINCE</th>\n",
       "      <th>TOTAL MILK PRODUCED(Mt)</th>\n",
       "    </tr>\n",
       "  </thead>\n",
       "  <tbody>\n",
       "    <tr>\n",
       "      <th>0</th>\n",
       "      <td>1.0</td>\n",
       "      <td>416337</td>\n",
       "    </tr>\n",
       "    <tr>\n",
       "      <th>1</th>\n",
       "      <td>2.0</td>\n",
       "      <td>294195</td>\n",
       "    </tr>\n",
       "    <tr>\n",
       "      <th>2</th>\n",
       "      <td>3.0</td>\n",
       "      <td>391042</td>\n",
       "    </tr>\n",
       "    <tr>\n",
       "      <th>3</th>\n",
       "      <td>4.0</td>\n",
       "      <td>274505</td>\n",
       "    </tr>\n",
       "    <tr>\n",
       "      <th>4</th>\n",
       "      <td>5.0</td>\n",
       "      <td>367876</td>\n",
       "    </tr>\n",
       "    <tr>\n",
       "      <th>5</th>\n",
       "      <td>6.0</td>\n",
       "      <td>113374</td>\n",
       "    </tr>\n",
       "    <tr>\n",
       "      <th>6</th>\n",
       "      <td>7.0</td>\n",
       "      <td>235074</td>\n",
       "    </tr>\n",
       "  </tbody>\n",
       "</table>\n",
       "</div>"
      ],
      "text/plain": [
       "   PROVINCE  TOTAL MILK PRODUCED(Mt)\n",
       "0       1.0                   416337\n",
       "1       2.0                   294195\n",
       "2       3.0                   391042\n",
       "3       4.0                   274505\n",
       "4       5.0                   367876\n",
       "5       6.0                   113374\n",
       "6       7.0                   235074"
      ]
     },
     "execution_count": 18,
     "metadata": {},
     "output_type": "execute_result"
    }
   ],
   "source": [
    "e3 = e2.rename(index={'1': '1', '2': '2', '3': '3', 'Gandaki': '4', '5': '5', 'Karnali': '6', 'Sudurpaschim': '7'})\n",
    "e3"
   ]
  },
  {
   "cell_type": "code",
   "execution_count": 19,
   "metadata": {},
   "outputs": [
    {
     "data": {
      "image/png": "[encoded data removed]",
      "text/plain": [
       "<Figure size 1152x576 with 2 Axes>"
      ]
     },
     "metadata": {
      "needs_background": "light"
     },
     "output_type": "display_data"
    }
   ],
   "source": [
    "\n",
    "plt.figure(figsize=(16,8))\n",
    "# plot chart\n",
    "ax1 = plt.subplot(121, aspect='equal')\n",
    "e2.plot(kind='pie', y = 'TOTAL MILK PRODUCED(Mt)', ax=ax1, autopct='%1.1f%%', \n",
    " startangle=15, shadow=True, labels=e2['PROVINCE'], legend = True, fontsize=16)\n",
    "\n",
    "# plot table\n",
    "plt.title('Province-wise Total Milk Production 2017-18')\n",
    "ax2 = plt.subplot(122)\n",
    "plt.axis('off')\n",
    "\n",
    "plt.show()"
   ]
  },
  {
   "cell_type": "code",
   "execution_count": 20,
   "metadata": {},
   "outputs": [
    {
     "data": {
      "text/html": [
       "<div>\n",
       "<style scoped>\n",
       "    .dataframe tbody tr th:only-of-type {\n",
       "        vertical-align: middle;\n",
       "    }\n",
       "\n",
       "    .dataframe tbody tr th {\n",
       "        vertical-align: top;\n",
       "    }\n",
       "\n",
       "    .dataframe thead th {\n",
       "        text-align: right;\n",
       "    }\n",
       "</style>\n",
       "<table border=\"1\" class=\"dataframe\">\n",
       "  <thead>\n",
       "    <tr style=\"text-align: right;\">\n",
       "      <th></th>\n",
       "      <th>PROVINCE</th>\n",
       "      <th>TOTAL MILK PRODUCED(Mt)</th>\n",
       "    </tr>\n",
       "  </thead>\n",
       "  <tbody>\n",
       "    <tr>\n",
       "      <th>0</th>\n",
       "      <td>1.0</td>\n",
       "      <td>416337</td>\n",
       "    </tr>\n",
       "    <tr>\n",
       "      <th>1</th>\n",
       "      <td>2.0</td>\n",
       "      <td>294195</td>\n",
       "    </tr>\n",
       "    <tr>\n",
       "      <th>2</th>\n",
       "      <td>3.0</td>\n",
       "      <td>391042</td>\n",
       "    </tr>\n",
       "    <tr>\n",
       "      <th>3</th>\n",
       "      <td>4.0</td>\n",
       "      <td>274505</td>\n",
       "    </tr>\n",
       "    <tr>\n",
       "      <th>4</th>\n",
       "      <td>5.0</td>\n",
       "      <td>367876</td>\n",
       "    </tr>\n",
       "  </tbody>\n",
       "</table>\n",
       "</div>"
      ],
      "text/plain": [
       "   PROVINCE  TOTAL MILK PRODUCED(Mt)\n",
       "0       1.0                   416337\n",
       "1       2.0                   294195\n",
       "2       3.0                   391042\n",
       "3       4.0                   274505\n",
       "4       5.0                   367876"
      ]
     },
     "execution_count": 20,
     "metadata": {},
     "output_type": "execute_result"
    }
   ],
   "source": [
    "data_to_plot = e2[['PROVINCE','TOTAL MILK PRODUCED(Mt)']]\n",
    "data_to_plot.head()"
   ]
  },
  {
   "cell_type": "code",
   "execution_count": 21,
   "metadata": {},
   "outputs": [
    {
     "ename": "AttributeError",
     "evalue": "module 'folium' has no attribute 'Choropleth'",
     "output_type": "error",
     "traceback": [
      "\u001b[1;31m---------------------------------------------------------------------------\u001b[0m",
      "\u001b[1;31mAttributeError\u001b[0m                            Traceback (most recent call last)",
      "\u001b[1;32m<ipython-input-21-d5b11a1c33fe>\u001b[0m in \u001b[0;36m<module>\u001b[1;34m\u001b[0m\n\u001b[0;32m      1\u001b[0m \u001b[0mm\u001b[0m \u001b[1;33m=\u001b[0m \u001b[0mfolium\u001b[0m\u001b[1;33m.\u001b[0m\u001b[0mMap\u001b[0m\u001b[1;33m(\u001b[0m\u001b[0mlocation\u001b[0m\u001b[1;33m=\u001b[0m\u001b[1;33m[\u001b[0m\u001b[1;36m28.3949\u001b[0m\u001b[1;33m,\u001b[0m \u001b[1;36m84.1240\u001b[0m\u001b[1;33m]\u001b[0m\u001b[1;33m,\u001b[0m \u001b[0mtiles\u001b[0m\u001b[1;33m=\u001b[0m\u001b[1;34m'Mapbox Control Room'\u001b[0m\u001b[1;33m,\u001b[0m \u001b[0mzoom_start\u001b[0m\u001b[1;33m=\u001b[0m\u001b[1;36m7.3\u001b[0m\u001b[1;33m,\u001b[0m \u001b[0mcontrol_scale\u001b[0m \u001b[1;33m=\u001b[0m \u001b[1;32mTrue\u001b[0m\u001b[1;33m)\u001b[0m\u001b[1;33m\u001b[0m\u001b[1;33m\u001b[0m\u001b[0m\n\u001b[0;32m      2\u001b[0m \u001b[1;33m\u001b[0m\u001b[0m\n\u001b[1;32m----> 3\u001b[1;33m folium.Choropleth(\n\u001b[0m\u001b[0;32m      4\u001b[0m     \u001b[0mgeo_data\u001b[0m\u001b[1;33m=\u001b[0m\u001b[0mDistrict_geo\u001b[0m\u001b[1;33m,\u001b[0m\u001b[1;33m\u001b[0m\u001b[1;33m\u001b[0m\u001b[0m\n\u001b[0;32m      5\u001b[0m     \u001b[0mname\u001b[0m\u001b[1;33m=\u001b[0m\u001b[1;34m'choropleth'\u001b[0m\u001b[1;33m,\u001b[0m\u001b[1;33m\u001b[0m\u001b[1;33m\u001b[0m\u001b[0m\n",
      "\u001b[1;31mAttributeError\u001b[0m: module 'folium' has no attribute 'Choropleth'"
     ]
    }
   ],
   "source": [
    "m = folium.Map(location=[28.3949, 84.1240], tiles='Mapbox Control Room', zoom_start=7.3, control_scale = True)\n",
    "\n",
    "folium.Choropleth(\n",
    "    geo_data=District_geo,\n",
    "    name='choropleth',\n",
    "    data=data_to_plot,\n",
    "    columns=['PROVINCE', 'TOTAL MILK PRODUCED(Mt)'],\n",
    "    key_on='feature.properties.PROVINCE',\n",
    "    fill_color='YlOrRd',\n",
    "    fill_opacity=4,\n",
    "    line_opacity=4,\n",
    "    legend_name='TOTAL MILK PRODUCED(Mt)',\n",
    "     smooth_factor=0,\n",
    "    highlight=True\n",
    ").add_to(m)\n",
    "\n",
    "style_function = \"font-size: 12px; font-weight: bold\"\n",
    "choropleth.geojson.add_child(\n",
    "    folium.features.GeoJsonTooltip(['PROVINCE'], style=style_function, labels=False))\n",
    "\n",
    "folium.LayerControl().add_to(m)\n",
    "\n",
    "m"
   ]
  },
  {
   "cell_type": "code",
   "execution_count": null,
   "metadata": {},
   "outputs": [],
   "source": []
  },
  {
   "cell_type": "code",
   "execution_count": null,
   "metadata": {},
   "outputs": [],
   "source": []
  }
 ],
 "metadata": {
  "kernelspec": {
   "display_name": "Python 3",
   "language": "python",
   "name": "python3"
  },
  "language_info": {
   "codemirror_mode": {
    "name": "ipython",
    "version": 3
   },
   "file_extension": ".py",
   "mimetype": "text/x-python",
   "name": "python",
   "nbconvert_exporter": "python",
   "pygments_lexer": "ipython3",
   "version": "3.8.3"
  }
 },
 "nbformat": 4,
 "nbformat_minor": 4
}
